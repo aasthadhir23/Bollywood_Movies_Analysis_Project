{
  "nbformat": 4,
  "nbformat_minor": 0,
  "metadata": {
    "colab": {
      "provenance": []
    },
    "kernelspec": {
      "name": "python3",
      "display_name": "Python 3"
    },
    "language_info": {
      "name": "python"
    }
  },
  "cells": [
    {
      "cell_type": "code",
      "execution_count": 1,
      "metadata": {
        "id": "RX0ZIrp67m1f"
      },
      "outputs": [],
      "source": [
        "import pandas as pd\n",
        "import numpy as np\n",
        "from pathlib import Path"
      ]
    },
    {
      "cell_type": "code",
      "source": [
        "df = pd.read_csv(\"/content/Data for repository.csv\")"
      ],
      "metadata": {
        "id": "kyyasw9T7sQq"
      },
      "execution_count": 2,
      "outputs": []
    },
    {
      "cell_type": "code",
      "source": [
        "df.head()"
      ],
      "metadata": {
        "colab": {
          "base_uri": "https://localhost:8080/",
          "height": 409
        },
        "id": "562HIKzx7wgR",
        "outputId": "b8186d92-5d3e-4c86-d193-a26ffe9709b0"
      },
      "execution_count": 3,
      "outputs": [
        {
          "output_type": "execute_result",
          "data": {
            "text/plain": [
              "         Movie Name Release Period Whether Remake Whether Franchise     Genre  \\\n",
              "0       Golden Boys         Normal             No                No  suspense   \n",
              "1     Kaccha Limboo        Holiday             No                No     drama   \n",
              "2  Not A Love Story        Holiday             No                No  thriller   \n",
              "3        Qaidi Band        Holiday             No                No     drama   \n",
              "4         Chaatwali        Holiday             No                No     adult   \n",
              "\n",
              "  New Actor New Director New Music Director         Lead Star  \\\n",
              "0       Yes           No                 No      Jeet Goswami   \n",
              "1       Yes           No                Yes  Karan Bhanushali   \n",
              "2        No           No                 No        Mahie Gill   \n",
              "3       Yes           No                 No        Aadar Jain   \n",
              "4       Yes          Yes                Yes        Aadil Khan   \n",
              "\n",
              "          Director   Music Director  Number of Screens  Budget(INR)  \\\n",
              "0       Ravi Varma    Baba Jagirdar                  5      5000000   \n",
              "1    Sagar Ballary  Amardeep Nijjer                 75     15000000   \n",
              "2  Ram Gopal Verma   Sandeep Chowta                525     75000000   \n",
              "3     Habib Faisal     Amit Trivedi                800    210000000   \n",
              "4       Aadil Khan     Babloo Ustad                  1      1000000   \n",
              "\n",
              "   Revenue(INR)  \n",
              "0         85000  \n",
              "1        825000  \n",
              "2      56700000  \n",
              "3       4500000  \n",
              "4       1075000  "
            ],
            "text/html": [
              "\n",
              "  <div id=\"df-2bbb2021-f055-4887-bed3-222add696bb7\">\n",
              "    <div class=\"colab-df-container\">\n",
              "      <div>\n",
              "<style scoped>\n",
              "    .dataframe tbody tr th:only-of-type {\n",
              "        vertical-align: middle;\n",
              "    }\n",
              "\n",
              "    .dataframe tbody tr th {\n",
              "        vertical-align: top;\n",
              "    }\n",
              "\n",
              "    .dataframe thead th {\n",
              "        text-align: right;\n",
              "    }\n",
              "</style>\n",
              "<table border=\"1\" class=\"dataframe\">\n",
              "  <thead>\n",
              "    <tr style=\"text-align: right;\">\n",
              "      <th></th>\n",
              "      <th>Movie Name</th>\n",
              "      <th>Release Period</th>\n",
              "      <th>Whether Remake</th>\n",
              "      <th>Whether Franchise</th>\n",
              "      <th>Genre</th>\n",
              "      <th>New Actor</th>\n",
              "      <th>New Director</th>\n",
              "      <th>New Music Director</th>\n",
              "      <th>Lead Star</th>\n",
              "      <th>Director</th>\n",
              "      <th>Music Director</th>\n",
              "      <th>Number of Screens</th>\n",
              "      <th>Budget(INR)</th>\n",
              "      <th>Revenue(INR)</th>\n",
              "    </tr>\n",
              "  </thead>\n",
              "  <tbody>\n",
              "    <tr>\n",
              "      <th>0</th>\n",
              "      <td>Golden Boys</td>\n",
              "      <td>Normal</td>\n",
              "      <td>No</td>\n",
              "      <td>No</td>\n",
              "      <td>suspense</td>\n",
              "      <td>Yes</td>\n",
              "      <td>No</td>\n",
              "      <td>No</td>\n",
              "      <td>Jeet Goswami</td>\n",
              "      <td>Ravi Varma</td>\n",
              "      <td>Baba Jagirdar</td>\n",
              "      <td>5</td>\n",
              "      <td>5000000</td>\n",
              "      <td>85000</td>\n",
              "    </tr>\n",
              "    <tr>\n",
              "      <th>1</th>\n",
              "      <td>Kaccha Limboo</td>\n",
              "      <td>Holiday</td>\n",
              "      <td>No</td>\n",
              "      <td>No</td>\n",
              "      <td>drama</td>\n",
              "      <td>Yes</td>\n",
              "      <td>No</td>\n",
              "      <td>Yes</td>\n",
              "      <td>Karan Bhanushali</td>\n",
              "      <td>Sagar Ballary</td>\n",
              "      <td>Amardeep Nijjer</td>\n",
              "      <td>75</td>\n",
              "      <td>15000000</td>\n",
              "      <td>825000</td>\n",
              "    </tr>\n",
              "    <tr>\n",
              "      <th>2</th>\n",
              "      <td>Not A Love Story</td>\n",
              "      <td>Holiday</td>\n",
              "      <td>No</td>\n",
              "      <td>No</td>\n",
              "      <td>thriller</td>\n",
              "      <td>No</td>\n",
              "      <td>No</td>\n",
              "      <td>No</td>\n",
              "      <td>Mahie Gill</td>\n",
              "      <td>Ram Gopal Verma</td>\n",
              "      <td>Sandeep Chowta</td>\n",
              "      <td>525</td>\n",
              "      <td>75000000</td>\n",
              "      <td>56700000</td>\n",
              "    </tr>\n",
              "    <tr>\n",
              "      <th>3</th>\n",
              "      <td>Qaidi Band</td>\n",
              "      <td>Holiday</td>\n",
              "      <td>No</td>\n",
              "      <td>No</td>\n",
              "      <td>drama</td>\n",
              "      <td>Yes</td>\n",
              "      <td>No</td>\n",
              "      <td>No</td>\n",
              "      <td>Aadar Jain</td>\n",
              "      <td>Habib Faisal</td>\n",
              "      <td>Amit Trivedi</td>\n",
              "      <td>800</td>\n",
              "      <td>210000000</td>\n",
              "      <td>4500000</td>\n",
              "    </tr>\n",
              "    <tr>\n",
              "      <th>4</th>\n",
              "      <td>Chaatwali</td>\n",
              "      <td>Holiday</td>\n",
              "      <td>No</td>\n",
              "      <td>No</td>\n",
              "      <td>adult</td>\n",
              "      <td>Yes</td>\n",
              "      <td>Yes</td>\n",
              "      <td>Yes</td>\n",
              "      <td>Aadil Khan</td>\n",
              "      <td>Aadil Khan</td>\n",
              "      <td>Babloo Ustad</td>\n",
              "      <td>1</td>\n",
              "      <td>1000000</td>\n",
              "      <td>1075000</td>\n",
              "    </tr>\n",
              "  </tbody>\n",
              "</table>\n",
              "</div>\n",
              "      <button class=\"colab-df-convert\" onclick=\"convertToInteractive('df-2bbb2021-f055-4887-bed3-222add696bb7')\"\n",
              "              title=\"Convert this dataframe to an interactive table.\"\n",
              "              style=\"display:none;\">\n",
              "        \n",
              "  <svg xmlns=\"http://www.w3.org/2000/svg\" height=\"24px\"viewBox=\"0 0 24 24\"\n",
              "       width=\"24px\">\n",
              "    <path d=\"M0 0h24v24H0V0z\" fill=\"none\"/>\n",
              "    <path d=\"M18.56 5.44l.94 2.06.94-2.06 2.06-.94-2.06-.94-.94-2.06-.94 2.06-2.06.94zm-11 1L8.5 8.5l.94-2.06 2.06-.94-2.06-.94L8.5 2.5l-.94 2.06-2.06.94zm10 10l.94 2.06.94-2.06 2.06-.94-2.06-.94-.94-2.06-.94 2.06-2.06.94z\"/><path d=\"M17.41 7.96l-1.37-1.37c-.4-.4-.92-.59-1.43-.59-.52 0-1.04.2-1.43.59L10.3 9.45l-7.72 7.72c-.78.78-.78 2.05 0 2.83L4 21.41c.39.39.9.59 1.41.59.51 0 1.02-.2 1.41-.59l7.78-7.78 2.81-2.81c.8-.78.8-2.07 0-2.86zM5.41 20L4 18.59l7.72-7.72 1.47 1.35L5.41 20z\"/>\n",
              "  </svg>\n",
              "      </button>\n",
              "      \n",
              "  <style>\n",
              "    .colab-df-container {\n",
              "      display:flex;\n",
              "      flex-wrap:wrap;\n",
              "      gap: 12px;\n",
              "    }\n",
              "\n",
              "    .colab-df-convert {\n",
              "      background-color: #E8F0FE;\n",
              "      border: none;\n",
              "      border-radius: 50%;\n",
              "      cursor: pointer;\n",
              "      display: none;\n",
              "      fill: #1967D2;\n",
              "      height: 32px;\n",
              "      padding: 0 0 0 0;\n",
              "      width: 32px;\n",
              "    }\n",
              "\n",
              "    .colab-df-convert:hover {\n",
              "      background-color: #E2EBFA;\n",
              "      box-shadow: 0px 1px 2px rgba(60, 64, 67, 0.3), 0px 1px 3px 1px rgba(60, 64, 67, 0.15);\n",
              "      fill: #174EA6;\n",
              "    }\n",
              "\n",
              "    [theme=dark] .colab-df-convert {\n",
              "      background-color: #3B4455;\n",
              "      fill: #D2E3FC;\n",
              "    }\n",
              "\n",
              "    [theme=dark] .colab-df-convert:hover {\n",
              "      background-color: #434B5C;\n",
              "      box-shadow: 0px 1px 3px 1px rgba(0, 0, 0, 0.15);\n",
              "      filter: drop-shadow(0px 1px 2px rgba(0, 0, 0, 0.3));\n",
              "      fill: #FFFFFF;\n",
              "    }\n",
              "  </style>\n",
              "\n",
              "      <script>\n",
              "        const buttonEl =\n",
              "          document.querySelector('#df-2bbb2021-f055-4887-bed3-222add696bb7 button.colab-df-convert');\n",
              "        buttonEl.style.display =\n",
              "          google.colab.kernel.accessAllowed ? 'block' : 'none';\n",
              "\n",
              "        async function convertToInteractive(key) {\n",
              "          const element = document.querySelector('#df-2bbb2021-f055-4887-bed3-222add696bb7');\n",
              "          const dataTable =\n",
              "            await google.colab.kernel.invokeFunction('convertToInteractive',\n",
              "                                                     [key], {});\n",
              "          if (!dataTable) return;\n",
              "\n",
              "          const docLinkHtml = 'Like what you see? Visit the ' +\n",
              "            '<a target=\"_blank\" href=https://colab.research.google.com/notebooks/data_table.ipynb>data table notebook</a>'\n",
              "            + ' to learn more about interactive tables.';\n",
              "          element.innerHTML = '';\n",
              "          dataTable['output_type'] = 'display_data';\n",
              "          await google.colab.output.renderOutput(dataTable, element);\n",
              "          const docLink = document.createElement('div');\n",
              "          docLink.innerHTML = docLinkHtml;\n",
              "          element.appendChild(docLink);\n",
              "        }\n",
              "      </script>\n",
              "    </div>\n",
              "  </div>\n",
              "  "
            ]
          },
          "metadata": {},
          "execution_count": 3
        }
      ]
    },
    {
      "cell_type": "code",
      "source": [
        "for index, row in df.iterrows():\n",
        "    if \",\" in row[\"Movie Name\"]:\n",
        "        print (row[\"Movie Name\"])"
      ],
      "metadata": {
        "colab": {
          "base_uri": "https://localhost:8080/"
        },
        "id": "V1uhqklH7zZn",
        "outputId": "9b40bef8-8361-4f91-b76d-ead33469c43e"
      },
      "execution_count": 4,
      "outputs": [
        {
          "output_type": "stream",
          "name": "stdout",
          "text": [
            "With Love, Delhi!\n",
            "I, Me Aur Main\n",
            "Oh, My God!!\n"
          ]
        }
      ]
    },
    {
      "cell_type": "code",
      "source": [
        "#actors = {}\n",
        "#directors = {}\n",
        "#movies = {}\n",
        "#actor = \"name\\n\"\n",
        "#director = \"director\\n\"\n",
        "\n",
        "movie = \"name,release_period,remake,franchise,genre,screens,revenue,budget\\n\"\n",
        "\n",
        "director_movie = \"director,movie,new_director\\n\"\n",
        "actor_movie = \"actor,movie,new_actor\\n\"\n",
        "\n",
        "for index, row in df.iterrows():\n",
        "    actor = row[\"Lead Star\"]\n",
        "    director = row[\"Director\"]\n",
        "\n",
        "    movie_name = row[\"Movie Name\"].replace(\",\", \".\")\n",
        "\n",
        "    new_actor = row[\"New Actor\"]\n",
        "    new_director = row[\"New Director\"]\n",
        "    \n",
        "    director_movie += f\"{director},{movie_name},{new_director}\\n\"\n",
        "    actor_movie += f\"{actor},{movie_name},{new_actor}\\n\"\n",
        "\n",
        "    movie += f\"{movie_name},{row['Release Period']},{row['Whether Remake']},{row['Whether Franchise']},{row['Genre']},{row['Number of Screens']},{row['Revenue(INR)']},{row['Budget(INR)']}\\n\""
      ],
      "metadata": {
        "id": "B8aQ8Ehg74rO"
      },
      "execution_count": 5,
      "outputs": []
    },
    {
      "cell_type": "code",
      "source": [
        "Path(\"./data_for_neo4j\").mkdir(parents=True, exist_ok=True)"
      ],
      "metadata": {
        "id": "WhAajYzP76Ek"
      },
      "execution_count": 6,
      "outputs": []
    },
    {
      "cell_type": "code",
      "source": [
        "output_file = open(\"./data_for_neo4j/movie.csv\", 'w')\n",
        "output_file.write(movie)\n",
        "output_file.close()"
      ],
      "metadata": {
        "id": "PcHTeLIn79nQ"
      },
      "execution_count": 7,
      "outputs": []
    },
    {
      "cell_type": "code",
      "source": [
        "output_file = open(\"./data_for_neo4j/director_movie.csv\", 'w')\n",
        "output_file.write(director_movie)\n",
        "output_file.close()\n",
        "\n",
        "output_file = open(\"./data_for_neo4j/actor_movie.csv\", 'w')\n",
        "output_file.write(actor_movie)\n",
        "output_file.close()"
      ],
      "metadata": {
        "id": "a58aCwCi7_qK"
      },
      "execution_count": 8,
      "outputs": []
    },
    {
      "cell_type": "code",
      "source": [],
      "metadata": {
        "id": "izDYaVFs8LHG"
      },
      "execution_count": null,
      "outputs": []
    }
  ]
}